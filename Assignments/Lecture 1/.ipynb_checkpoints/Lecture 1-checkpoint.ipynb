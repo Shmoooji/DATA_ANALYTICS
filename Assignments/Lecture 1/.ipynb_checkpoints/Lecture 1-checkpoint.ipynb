{
 "cells": [
  {
   "cell_type": "markdown",
   "id": "135d9b4b-c040-49bf-8200-59dc4754b8a6",
   "metadata": {},
   "source": [
    "$\\textbf{PROGRAMMING ASSIGNMENT}$\n",
    "---\n",
    "Name: Curtney Sealtiel Mata Juma-ang\n",
    "\n",
    "Selected Dataset: https://archive.ics.uci.edu/dataset/158/poker+hand\n",
    "\n",
    "Instructions: Choose a dataset of your liking and perform the following:\n",
    "\n",
    "1. Create a Correlation Plot\n",
    "\n"
   ]
  },
  {
   "cell_type": "code",
   "execution_count": null,
   "id": "0402c0fc-d2ca-44f7-936f-ad8cd2db24c5",
   "metadata": {},
   "outputs": [],
   "source": [
    "# Load the dataset\n",
    "url = \"\"\n",
    "columns = ['S1', 'C1', 'S2', 'C2', 'S3', 'C3', 'S4', 'C4', 'S5', 'C5', 'Hand']\n",
    "data = pd.read_csv(\"poker-hand-testing.data\", names=columns)\n",
    "df[\"class\"] = (df[\"class\"]== \"g\").astype(int)"
   ]
  },
  {
   "cell_type": "markdown",
   "id": "cbf39907-51a5-486a-bf9c-573a3118d4f6",
   "metadata": {},
   "source": [
    "2. Check the distribution of each column and determine which probability distiribution it fits."
   ]
  },
  {
   "cell_type": "code",
   "execution_count": null,
   "id": "9f6bc59f-8e63-4cd5-8ee1-d15690db85c6",
   "metadata": {},
   "outputs": [],
   "source": [
    "plt.figure(figsize=(15, 10))\n",
    "for i, col in enumerate(data.columns):\n",
    "    plt.subplot(3, 4, i + 1)\n",
    "    sns.histplot(data[col], kde=True)\n",
    "    plt.title(col)\n",
    "plt.tight_layout()\n",
    "plt.show()"
   ]
  },
  {
   "cell_type": "markdown",
   "id": "39a2b6e1-82b2-4f28-8db1-085aea496e09",
   "metadata": {},
   "source": [
    "3. Create a summary statistics.\n",
    "\n"
   ]
  },
  {
   "cell_type": "code",
   "execution_count": null,
   "id": "f1b2a1a5-f003-451e-9223-c1107c79e1a0",
   "metadata": {},
   "outputs": [],
   "source": [
    "summary_stats = data.describe()\n",
    "print(summary_stats)"
   ]
  },
  {
   "cell_type": "markdown",
   "id": "4e95f94a-cceb-4d86-98bc-3bfd2d582766",
   "metadata": {},
   "source": [
    "4. Perform a hypothesis test (Code from scratch)."
   ]
  },
  {
   "cell_type": "code",
   "execution_count": null,
   "id": "4e16e330-a4a6-498f-8439-a9144c4b2d7d",
   "metadata": {},
   "outputs": [],
   "source": [
    "contingency_table = pd.crosstab(data['S1'], data['Hand'])\n",
    "chi2, p, dof, expected = chi2_contingency(contingency_table)\n",
    "print(\"Chi-square statistic:\", chi2)\n",
    "print(\"P-value:\", p)\n"
   ]
  }
 ],
 "metadata": {
  "kernelspec": {
   "display_name": "Python 3 (ipykernel)",
   "language": "python",
   "name": "python3"
  },
  "language_info": {
   "codemirror_mode": {
    "name": "ipython",
    "version": 3
   },
   "file_extension": ".py",
   "mimetype": "text/x-python",
   "name": "python",
   "nbconvert_exporter": "python",
   "pygments_lexer": "ipython3",
   "version": "3.11.5"
  }
 },
 "nbformat": 4,
 "nbformat_minor": 5
}
